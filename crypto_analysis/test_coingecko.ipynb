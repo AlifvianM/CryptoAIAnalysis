{
 "cells": [
  {
   "cell_type": "markdown",
   "metadata": {},
   "source": [
    "# CoinGecko"
   ]
  },
  {
   "cell_type": "code",
   "execution_count": 1,
   "metadata": {},
   "outputs": [
    {
     "name": "stderr",
     "output_type": "stream",
     "text": [
      "/Users/marco/Documents/project/machine_learning/langgraph_basic/.venv/lib/python3.9/site-packages/urllib3/__init__.py:35: NotOpenSSLWarning: urllib3 v2 only supports OpenSSL 1.1.1+, currently the 'ssl' module is compiled with 'LibreSSL 2.8.3'. See: https://github.com/urllib3/urllib3/issues/3020\n",
      "  warnings.warn(\n"
     ]
    }
   ],
   "source": [
    "import requests"
   ]
  },
  {
   "cell_type": "code",
   "execution_count": 2,
   "metadata": {},
   "outputs": [
    {
     "name": "stdout",
     "output_type": "stream",
     "text": [
      "Jumlah cryptocurrency: 17180\n",
      "[{'id': '_', 'symbol': 'gib', 'name': '༼ つ ◕_◕ ༽つ'}, {'id': '01coin', 'symbol': 'zoc', 'name': '01coin'}, {'id': '0chain', 'symbol': 'zcn', 'name': 'Zus'}, {'id': '0dog', 'symbol': '0dog', 'name': 'Bitcoin Dogs'}, {'id': '0-knowledge-network', 'symbol': '0kn', 'name': '0 Knowledge Network'}]\n"
     ]
    }
   ],
   "source": [
    "import requests\n",
    "\n",
    "# Endpoint untuk mengambil daftar cryptocurrency\n",
    "url = \"https://api.coingecko.com/api/v3/coins/list\"\n",
    "\n",
    "# Mengirim request ke API\n",
    "response = requests.get(url)\n",
    "\n",
    "# Mengecek status response\n",
    "if response.status_code == 200:\n",
    "    data = response.json()  # Mengubah response ke format JSON\n",
    "    print(f\"Jumlah cryptocurrency: {len(data)}\")\n",
    "    print(data[:5])  # Menampilkan 5 cryptocurrency pertama\n",
    "else:\n",
    "    print(f\"Error: {response.status_code}\")"
   ]
  },
  {
   "cell_type": "code",
   "execution_count": null,
   "metadata": {},
   "outputs": [
    {
     "name": "stderr",
     "output_type": "stream",
     "text": [
      "/Users/marco/Documents/project/machine_learning/langgraph_basic/.venv/lib/python3.9/site-packages/urllib3/__init__.py:35: NotOpenSSLWarning: urllib3 v2 only supports OpenSSL 1.1.1+, currently the 'ssl' module is compiled with 'LibreSSL 2.8.3'. See: https://github.com/urllib3/urllib3/issues/3020\n",
      "  warnings.warn(\n"
     ]
    },
    {
     "name": "stdout",
     "output_type": "stream",
     "text": [
      "Error: 404\n"
     ]
    }
   ],
   "source": [
    "import requests\n",
    "\n",
    "# Parameter\n",
    "coin_id = \"bitcoin\"  # ID cryptocurrency (bitcoin, ethereum, dll)\n",
    "vs_currency = \"usd\"  # Mata uang yang digunakan (usd, idr, dll)\n",
    "days = \"30\"  # Jumlah hari data historis yang diambil\n",
    "\n",
    "# Endpoint untuk mengambil data harga historis\n",
    "url = f\"https://api.coingecko.com/api/v3/coins/{coin_id}/market_chart\"\n",
    "params = {\n",
    "    \"vs_currency\": vs_currency,\n",
    "    \"days\": days\n",
    "}\n",
    "\n",
    "# Mengirim request ke API\n",
    "response = requests.get(url, params=params)\n",
    "\n",
    "# Mengecek status response\n",
    "if response.status_code == 200:\n",
    "    data = response.json()  # Mengubah response ke format JSON\n",
    "    prices = data[\"prices\"]  # Data harga (timestamp, price)\n",
    "    print(f\"Data harga historis {coin_id}:\")\n",
    "    for price in prices:  # Menampilkan 5 data pertama\n",
    "        print(price)\n",
    "else:\n",
    "    print(f\"Error: {response.status_code}\")"
   ]
  },
  {
   "cell_type": "code",
   "execution_count": 4,
   "metadata": {},
   "outputs": [
    {
     "name": "stdout",
     "output_type": "stream",
     "text": [
      "Nama: Ethereum\n",
      "Simbol: eth\n",
      "Harga (USD): 2184.36\n",
      "Market Cap (USD): 263643407936\n"
     ]
    }
   ],
   "source": [
    "import requests\n",
    "\n",
    "# Parameter\n",
    "coin_id = \"ethereum\"  # ID cryptocurrency\n",
    "\n",
    "# Endpoint untuk mengambil informasi detail\n",
    "url = f\"https://api.coingecko.com/api/v3/coins/{coin_id}\"\n",
    "\n",
    "# Mengirim request ke API\n",
    "response = requests.get(url)\n",
    "\n",
    "# Mengecek status response\n",
    "if response.status_code == 200:\n",
    "    data = response.json()  # Mengubah response ke format JSON\n",
    "    print(f\"Nama: {data['name']}\")\n",
    "    print(f\"Simbol: {data['symbol']}\")\n",
    "    print(f\"Harga (USD): {data['market_data']['current_price']['usd']}\")\n",
    "    print(f\"Market Cap (USD): {data['market_data']['market_cap']['usd']}\")\n",
    "else:\n",
    "    print(f\"Error: {response.status_code}\")"
   ]
  },
  {
   "cell_type": "code",
   "execution_count": 2,
   "metadata": {},
   "outputs": [
    {
     "name": "stdout",
     "output_type": "stream",
     "text": [
      "Data OHLC bitcoin (4 jam terakhir):\n",
      "Waktu: 2025-03-08 15:30:00, Open: 86309.0, High: 86309.0, Low: 86031.0, Close: 86102.0\n",
      "Waktu: 2025-03-08 16:00:00, Open: 86131.0, High: 86191.0, Low: 86040.0, Close: 86040.0\n",
      "Waktu: 2025-03-08 16:30:00, Open: 86087.0, High: 86395.0, Low: 86087.0, Close: 86349.0\n",
      "Waktu: 2025-03-08 17:00:00, Open: 86328.0, High: 86401.0, Low: 85892.0, Close: 85892.0\n",
      "Waktu: 2025-03-08 17:30:00, Open: 85917.0, High: 86114.0, Low: 85917.0, Close: 86114.0\n",
      "Waktu: 2025-03-08 18:00:00, Open: 86212.0, High: 86212.0, Low: 86082.0, Close: 86082.0\n",
      "Waktu: 2025-03-08 18:30:00, Open: 86118.0, High: 86118.0, Low: 85765.0, Close: 85848.0\n",
      "Waktu: 2025-03-08 19:00:00, Open: 85936.0, High: 85959.0, Low: 85813.0, Close: 85838.0\n",
      "Waktu: 2025-03-08 19:30:00, Open: 85922.0, High: 86176.0, Low: 85836.0, Close: 86156.0\n",
      "Waktu: 2025-03-08 20:00:00, Open: 86176.0, High: 86372.0, Low: 86160.0, Close: 86287.0\n",
      "Waktu: 2025-03-08 20:30:00, Open: 86192.0, High: 86276.0, Low: 86154.0, Close: 86276.0\n",
      "Waktu: 2025-03-08 21:00:00, Open: 86365.0, High: 86379.0, Low: 86240.0, Close: 86291.0\n",
      "Waktu: 2025-03-08 21:30:00, Open: 86300.0, High: 86398.0, Low: 86300.0, Close: 86398.0\n",
      "Waktu: 2025-03-08 22:00:00, Open: 86439.0, High: 86508.0, Low: 86245.0, Close: 86304.0\n",
      "Waktu: 2025-03-08 22:30:00, Open: 86322.0, High: 86476.0, Low: 86231.0, Close: 86423.0\n",
      "Waktu: 2025-03-08 23:00:00, Open: 86547.0, High: 86547.0, Low: 86372.0, Close: 86372.0\n",
      "Waktu: 2025-03-08 23:30:00, Open: 86336.0, High: 86345.0, Low: 85928.0, Close: 85928.0\n",
      "Waktu: 2025-03-09 00:00:00, Open: 85887.0, High: 86163.0, Low: 85887.0, Close: 86163.0\n",
      "Waktu: 2025-03-09 00:30:00, Open: 86101.0, High: 86101.0, Low: 85739.0, Close: 85831.0\n",
      "Waktu: 2025-03-09 01:00:00, Open: 85874.0, High: 85981.0, Low: 85874.0, Close: 85961.0\n",
      "Waktu: 2025-03-09 01:30:00, Open: 85919.0, High: 86016.0, Low: 85919.0, Close: 85998.0\n",
      "Waktu: 2025-03-09 02:00:00, Open: 86010.0, High: 86012.0, Low: 85965.0, Close: 86012.0\n",
      "Waktu: 2025-03-09 02:30:00, Open: 86012.0, High: 86012.0, Low: 85861.0, Close: 85982.0\n",
      "Waktu: 2025-03-09 03:00:00, Open: 86349.0, High: 86411.0, Low: 86301.0, Close: 86301.0\n",
      "Waktu: 2025-03-09 03:30:00, Open: 86205.0, High: 86315.0, Low: 86205.0, Close: 86219.0\n",
      "Waktu: 2025-03-09 04:00:00, Open: 86194.0, High: 86302.0, Low: 86194.0, Close: 86302.0\n",
      "Waktu: 2025-03-09 04:30:00, Open: 86259.0, High: 86413.0, Low: 86251.0, Close: 86413.0\n",
      "Waktu: 2025-03-09 05:00:00, Open: 86467.0, High: 86467.0, Low: 86201.0, Close: 86201.0\n",
      "Waktu: 2025-03-09 05:30:00, Open: 86209.0, High: 86212.0, Low: 85918.0, Close: 85918.0\n",
      "Waktu: 2025-03-09 06:00:00, Open: 85969.0, High: 86141.0, Low: 85969.0, Close: 86137.0\n",
      "Waktu: 2025-03-09 06:30:00, Open: 86303.0, High: 86332.0, Low: 86239.0, Close: 86278.0\n",
      "Waktu: 2025-03-09 07:00:00, Open: 86242.0, High: 86260.0, Low: 86083.0, Close: 86143.0\n",
      "Waktu: 2025-03-09 07:30:00, Open: 86173.0, High: 86325.0, Low: 86173.0, Close: 86325.0\n",
      "Waktu: 2025-03-09 08:00:00, Open: 86377.0, High: 86413.0, Low: 86353.0, Close: 86365.0\n",
      "Waktu: 2025-03-09 08:30:00, Open: 86380.0, High: 86483.0, Low: 86367.0, Close: 86367.0\n",
      "Waktu: 2025-03-09 09:00:00, Open: 86258.0, High: 86258.0, Low: 86099.0, Close: 86099.0\n",
      "Waktu: 2025-03-09 09:30:00, Open: 86210.0, High: 86211.0, Low: 86143.0, Close: 86211.0\n",
      "Waktu: 2025-03-09 10:00:00, Open: 86220.0, High: 86227.0, Low: 85980.0, Close: 85980.0\n",
      "Waktu: 2025-03-09 10:30:00, Open: 86037.0, High: 86099.0, Low: 85962.0, Close: 85983.0\n",
      "Waktu: 2025-03-09 11:00:00, Open: 86064.0, High: 86186.0, Low: 86064.0, Close: 86164.0\n",
      "Waktu: 2025-03-09 11:30:00, Open: 86091.0, High: 86091.0, Low: 85964.0, Close: 85964.0\n",
      "Waktu: 2025-03-09 12:00:00, Open: 86047.0, High: 86061.0, Low: 85982.0, Close: 86048.0\n",
      "Waktu: 2025-03-09 12:30:00, Open: 86040.0, High: 86076.0, Low: 85962.0, Close: 86076.0\n",
      "Waktu: 2025-03-09 13:00:00, Open: 86051.0, High: 86085.0, Low: 85996.0, Close: 85998.0\n",
      "Waktu: 2025-03-09 13:30:00, Open: 86001.0, High: 86001.0, Low: 85848.0, Close: 85895.0\n",
      "Waktu: 2025-03-09 14:00:00, Open: 85928.0, High: 86009.0, Low: 85910.0, Close: 85936.0\n",
      "Waktu: 2025-03-09 14:30:00, Open: 85863.0, High: 86042.0, Low: 85863.0, Close: 86042.0\n",
      "Waktu: 2025-03-09 15:00:00, Open: 86105.0, High: 86105.0, Low: 85896.0, Close: 85896.0\n"
     ]
    }
   ],
   "source": [
    "import requests\n",
    "import datetime\n",
    "\n",
    "# Parameter\n",
    "coin_id = \"bitcoin\"  # ID cryptocurrency (bitcoin, ethereum, dll)\n",
    "vs_currency = \"usd\"  # Mata uang yang digunakan (usd, idr, dll)\n",
    "days = \"1\"  # Jumlah hari data yang diambil (1 hari = data 4 jam terakhir)\n",
    "\n",
    "# Endpoint untuk mengambil data OHLC\n",
    "url = f\"https://api.coingecko.com/api/v3/coins/{coin_id}/ohlc\"\n",
    "params = {\n",
    "    \"vs_currency\": vs_currency,\n",
    "    \"days\": days\n",
    "}\n",
    "\n",
    "# Mengirim request ke API\n",
    "response = requests.get(url, params=params)\n",
    "\n",
    "# Mengecek status response\n",
    "if response.status_code == 200:\n",
    "    data = response.json()  # Mengubah response ke format JSON\n",
    "    print(f\"Data OHLC {coin_id} (4 jam terakhir):\")\n",
    "    for ohlc in data:\n",
    "        # Format data OHLC: [timestamp, open, high, low, close]\n",
    "        timestamp = ohlc[0] / 1000  # Konversi milidetik ke detik\n",
    "        time = datetime.datetime.fromtimestamp(timestamp).strftime('%Y-%m-%d %H:%M:%S')\n",
    "        open_price = ohlc[1]\n",
    "        high_price = ohlc[2]\n",
    "        low_price = ohlc[3]\n",
    "        close_price = ohlc[4]\n",
    "        print(f\"Waktu: {time}, Open: {open_price}, High: {high_price}, Low: {low_price}, Close: {close_price}\")\n",
    "else:\n",
    "    print(f\"Error: {response.status_code}\")"
   ]
  },
  {
   "cell_type": "code",
   "execution_count": null,
   "metadata": {},
   "outputs": [],
   "source": []
  }
 ],
 "metadata": {
  "kernelspec": {
   "display_name": ".venv",
   "language": "python",
   "name": "python3"
  },
  "language_info": {
   "codemirror_mode": {
    "name": "ipython",
    "version": 3
   },
   "file_extension": ".py",
   "mimetype": "text/x-python",
   "name": "python",
   "nbconvert_exporter": "python",
   "pygments_lexer": "ipython3",
   "version": "3.9.6"
  }
 },
 "nbformat": 4,
 "nbformat_minor": 2
}
